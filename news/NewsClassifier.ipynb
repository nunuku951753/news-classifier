{
 "cells": [
  {
   "cell_type": "markdown",
   "metadata": {},
   "source": [
    "### Data Preprocessing ###"
   ]
  },
  {
   "cell_type": "code",
   "execution_count": 1,
   "metadata": {},
   "outputs": [
    {
     "name": "stderr",
     "output_type": "stream",
     "text": [
      "Using TensorFlow backend.\n"
     ]
    }
   ],
   "source": [
    "import re\n",
    "import jieba\n",
    "import jieba.analyse\n",
    "import keras\n",
    "import pandas as pd\n",
    "import numpy as np\n",
    "from pythonbq import pythonbq\n",
    "from keras.models import load_model\n",
    "\n",
    "class NewsClassifier():\n",
    "\n",
    "    def __init__(self, model_path):\n",
    "        self.model = load_model(model_path)\n",
    "        \n",
    "    # 取字詞資料集並匯出csv\n",
    "    def getWord_index_csv(self):\n",
    "        my_project_id='maximal-cabinet-254805'\n",
    "        my_dataset_id='news_keywords'\n",
    "        credentials_path = 'C:/Users/GameToGo/MyCredentials/My First Project-7226ff9d97d3.json'\n",
    "        \n",
    "        myProject=pythonbq(\n",
    "          bq_key_path = credentials_path,\n",
    "          project_id = my_project_id\n",
    "        )\n",
    "        SQL_CODE=\"\"\"\n",
    "            SELECT * FROM `maximal-cabinet-254805.news_keywords.keywords` \n",
    "            order by id\n",
    "        \"\"\"\n",
    "\n",
    "        output=myProject.query(sql=SQL_CODE)\n",
    "        output.to_csv('word_index.csv', index = False)\n",
    "\n",
    "    # 讀取字詞集csv\n",
    "    def getWord_index(self):\n",
    "        word_df = pd.read_csv('./word_index.csv')\n",
    "\n",
    "        word_index = {}\n",
    "        for w in word_df.values:\n",
    "            word_index[w[1]] = w[0]\n",
    "\n",
    "        return word_index\n",
    "\n",
    "    # 關鍵字提取(基于TF-IDF算法)\n",
    "    def getTxtArray(self, txt, K, word_index):\n",
    "        pattern = re.compile(r'[\\d+\\u4e00-\\u9fa5]+') # 取中文加數字\n",
    "        txt_list = pattern.findall(txt)\n",
    "        txt2 = ''.join(txt_list)\n",
    "\n",
    "        keywords = jieba.analyse.extract_tags(\n",
    "                            sentence=txt2, topK=K, withWeight=True, allowPOS=('n','nr','ns'))\n",
    "        words = []\n",
    "        txt_index = []\n",
    "        for item in keywords:\n",
    "            key = item[0]\n",
    "            words.append(key)\n",
    "            if key in word_index.keys():\n",
    "                txt_index.append(word_index[key])   \n",
    "            else:\n",
    "                txt_index.append(0) \n",
    "        \n",
    "        return words, [txt_index]\n",
    "    \n",
    "    # 匯入model與預測\n",
    "    def getPredictAns(self, txt):\n",
    "        s = [\"政治\", \"運動\", \"財經\", \"社會\", \"房產\", \"國際\", \"娛樂\"]\n",
    "        \n",
    "        word_index = self.getWord_index()\n",
    "        words, txt_index = self.getTxtArray(txt, 20, word_index)\n",
    "        # 關鍵字不滿20補0\n",
    "        txt_seq = keras.preprocessing.sequence.pad_sequences(txt_index, maxlen = 20)\n",
    "        \n",
    "        pre = self.model.predict(txt_seq)\n",
    "        ans = pre.argmax(axis=1)[0]\n",
    "        return words, s[ans]"
   ]
  },
  {
   "cell_type": "code",
   "execution_count": 5,
   "metadata": {
    "scrolled": true
   },
   "outputs": [
    {
     "name": "stdout",
     "output_type": "stream",
     "text": [
      "ans: 娛樂\n",
      "['電影', '典禮', '萊塢', '國際', '小丑', '最佳影片', '女配角', '男配角', '奧斯卡', '台灣', '時間', '洛杉磯', '布萊德', '鄧恩奪', '韓國', '項大獎', '題性', '原創', '瓦昆', '茱蒂']\n"
     ]
    }
   ],
   "source": [
    "txt = \"第92屆奧斯卡金像獎頒獎典禮於台灣時間今（10）日早上9點於洛杉磯舉行，今年電影每一部都令人驚豔，《寄生上流》、《小丑》、《1917》等大片都備受矚目。本屆頒獎典禮比照去年沒有主持人，眾多好萊塢巨星輪番上陣，每一位表演者都令人期待。稍早頒發的第一個最佳男配角，由《從前，有個好萊塢》的布萊德彼特奪下、《婚姻故事》蘿拉鄧恩奪最佳女配角。韓國電影《寄生上流》入圍最佳影片、導演、國際電影等6項大獎，最具話題性，拿下最佳影片獎、最佳原創劇本獎、最佳國際影片和最佳導演，最佳男主角和最佳女主角分別由《小丑》瓦昆菲尼克斯、《茱蒂》芮妮齊薇格奪得。\"\n",
    "classifier = NewsClassifier('./model/7news_lstm_acc89.h5')\n",
    "words, ans = NewsClassifier.getPredictAns(classifier, txt)\n",
    "\n",
    "print(\"ans:\",ans)\n",
    "print(words)"
   ]
  },
  {
   "cell_type": "code",
   "execution_count": null,
   "metadata": {},
   "outputs": [],
   "source": []
  }
 ],
 "metadata": {
  "kernelspec": {
   "display_name": "Python 3",
   "language": "python",
   "name": "python3"
  },
  "language_info": {
   "codemirror_mode": {
    "name": "ipython",
    "version": 3
   },
   "file_extension": ".py",
   "mimetype": "text/x-python",
   "name": "python",
   "nbconvert_exporter": "python",
   "pygments_lexer": "ipython3",
   "version": "3.7.3"
  }
 },
 "nbformat": 4,
 "nbformat_minor": 2
}

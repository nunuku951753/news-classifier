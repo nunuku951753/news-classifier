{
 "cells": [
  {
   "cell_type": "code",
   "execution_count": 1,
   "metadata": {},
   "outputs": [],
   "source": [
    "from pythonbq import pythonbq\n",
    "\n",
    "my_project_id='maximal-cabinet-254805'\n",
    "my_dataset_id='news_keywords'\n",
    "credentials_path = 'C:/Users/GameToGo/MyCredentials/My First Project-7226ff9d97d3.json'"
   ]
  },
  {
   "cell_type": "code",
   "execution_count": 2,
   "metadata": {},
   "outputs": [
    {
     "name": "stderr",
     "output_type": "stream",
     "text": [
      "Downloading: 100%|████████████████████████████████████████████████████████████| 8400/8400 [00:00<00:00, 10739.52rows/s]\n"
     ]
    },
    {
     "name": "stdout",
     "output_type": "stream",
     "text": [
      "(8400, 3)\n"
     ]
    }
   ],
   "source": [
    "myProject=pythonbq(\n",
    "  bq_key_path=credentials_path,\n",
    "  project_id=my_project_id\n",
    ")\n",
    "SQL_CODE=\"\"\"\n",
    "    SELECT title_array, content_array, label\n",
    "    FROM `maximal-cabinet-254805.news_keywords.news`\n",
    "\"\"\"\n",
    "\n",
    "output=myProject.query(sql=SQL_CODE)\n",
    "print(output.shape)"
   ]
  },
  {
   "cell_type": "code",
   "execution_count": 3,
   "metadata": {},
   "outputs": [
    {
     "name": "stderr",
     "output_type": "stream",
     "text": [
      "Using TensorFlow backend.\n"
     ]
    },
    {
     "name": "stdout",
     "output_type": "stream",
     "text": [
      "(6720, 20)\n",
      "(1680, 20)\n",
      "(6720, 7)\n",
      "(1680, 7)\n"
     ]
    }
   ],
   "source": [
    "import keras\n",
    "import pandas as pd\n",
    "from sklearn.utils import shuffle\n",
    "from sklearn.model_selection import train_test_split\n",
    "\n",
    "title_SEQUENCE_LENGTH = 5\n",
    "content_SEQUENCE_LENGTH = 20\n",
    "num_classes = 7\n",
    "\n",
    "title = [eval(x) for x in output['title_array']]\n",
    "content = [eval(x) for x in output['content_array']]\n",
    "title_seq = keras.preprocessing.sequence.pad_sequences(title, maxlen = title_SEQUENCE_LENGTH)\n",
    "content_seq = keras.preprocessing.sequence.pad_sequences(content, maxlen = content_SEQUENCE_LENGTH)\n",
    "\n",
    "# one-hot-encoding\n",
    "label = keras.utils.to_categorical(output['label'],num_classes=num_classes)\n",
    "\n",
    "# 將資料打亂\n",
    "x1, x2, y = shuffle(title_seq, content_seq, label, random_state=42)\n",
    "\n",
    "x1_train, x1_test, x2_train, x2_test, y_train, y_test = \\\n",
    "                                        train_test_split(x1, x2, y, test_size=0.2, random_state=42)\n",
    "\n",
    "print(x2_train.shape)\n",
    "print(x2_test.shape)\n",
    "print(y_train.shape)\n",
    "print(y_test.shape)"
   ]
  },
  {
   "cell_type": "code",
   "execution_count": 4,
   "metadata": {},
   "outputs": [
    {
     "name": "stdout",
     "output_type": "stream",
     "text": [
      "WARNING:tensorflow:From C:\\Users\\GameToGo\\Anaconda3\\lib\\site-packages\\keras\\backend\\tensorflow_backend.py:66: The name tf.get_default_graph is deprecated. Please use tf.compat.v1.get_default_graph instead.\n",
      "\n",
      "WARNING:tensorflow:From C:\\Users\\GameToGo\\Anaconda3\\lib\\site-packages\\keras\\backend\\tensorflow_backend.py:541: The name tf.placeholder is deprecated. Please use tf.compat.v1.placeholder instead.\n",
      "\n",
      "WARNING:tensorflow:From C:\\Users\\GameToGo\\Anaconda3\\lib\\site-packages\\keras\\backend\\tensorflow_backend.py:4432: The name tf.random_uniform is deprecated. Please use tf.random.uniform instead.\n",
      "\n",
      "Model: \"model_1\"\n",
      "_________________________________________________________________\n",
      "Layer (type)                 Output Shape              Param #   \n",
      "=================================================================\n",
      "input_2 (InputLayer)         (None, 20)                0         \n",
      "_________________________________________________________________\n",
      "embedding_1 (Embedding)      multiple                  7895808   \n",
      "_________________________________________________________________\n",
      "lstm_1 (LSTM)                (None, 128)               197120    \n",
      "_________________________________________________________________\n",
      "dense_1 (Dense)              (None, 7)                 903       \n",
      "=================================================================\n",
      "Total params: 8,093,831\n",
      "Trainable params: 8,093,831\n",
      "Non-trainable params: 0\n",
      "_________________________________________________________________\n",
      "WARNING:tensorflow:From C:\\Users\\GameToGo\\Anaconda3\\lib\\site-packages\\keras\\optimizers.py:793: The name tf.train.Optimizer is deprecated. Please use tf.compat.v1.train.Optimizer instead.\n",
      "\n",
      "WARNING:tensorflow:From C:\\Users\\GameToGo\\Anaconda3\\lib\\site-packages\\keras\\backend\\tensorflow_backend.py:3576: The name tf.log is deprecated. Please use tf.math.log instead.\n",
      "\n"
     ]
    }
   ],
   "source": [
    "# 建立孿生 LSTM 架構（Siamese LSTM）\n",
    "from keras import Input\n",
    "from keras.layers import Embedding, LSTM, concatenate, Dense\n",
    "from keras.models import Model\n",
    "\n",
    "\n",
    "MAX_NUM_WORDS = 30843   # 分詞字典庫裡有多少詞彙\n",
    "NUM_EMBEDDING_DIM = 256 # 詞向量的維度\n",
    "NUM_LSTM_UNITS = 128    # LSTM 輸出的向量維度\n",
    "\n",
    "# 分別定義 input shape\n",
    "x1_input = Input(shape=(title_SEQUENCE_LENGTH, ), dtype='int32')\n",
    "x2_input = Input(shape=(content_SEQUENCE_LENGTH, ), dtype='int32')\n",
    "\n",
    "# 詞嵌入層\n",
    "# 將新聞數字序列變成詞向量的序列，每個詞向量的維度為 256\n",
    "embedding_layer = Embedding(MAX_NUM_WORDS, NUM_EMBEDDING_DIM)\n",
    "x1_embedded = embedding_layer(x1_input)\n",
    "x2_embedded = embedding_layer(x2_input)\n",
    "\n",
    "# LSTM層 兩個新聞標題經過此層後為一個 128 維度向量\n",
    "shared_lstm = LSTM(NUM_LSTM_UNITS)\n",
    "x1_output = shared_lstm(x1_embedded)\n",
    "x2_output = shared_lstm(x2_embedded)\n",
    "\n",
    "dense = Dense(units = num_classes, activation='softmax')\n",
    "predictions = dense(x2_output)\n",
    "\n",
    "model = Model(inputs = x2_input, outputs = predictions)\n",
    "model.summary()\n",
    "\n",
    "# ---------------------------------------------------------------------------------------------\n",
    "# 兩個input\n",
    "# \n",
    "# 將兩個input串接為單一向量方便跟全連結層相連\n",
    "# merged = concatenate([x1_output, x2_output], axis = -1)\n",
    "# dense = Dense(units = 5, activation='softmax')\n",
    "# predictions = dense(merged)\n",
    "# \n",
    "# model = Model(inputs=[x1_input, x2_input], outputs=predictions)\n",
    "# model.summary()\n",
    "\n",
    "# optimizer: rmsprop\n",
    "model.compile(loss='categorical_crossentropy',\n",
    "                optimizer='adam',\n",
    "                metrics=['accuracy'])"
   ]
  },
  {
   "cell_type": "code",
   "execution_count": 5,
   "metadata": {},
   "outputs": [
    {
     "name": "stdout",
     "output_type": "stream",
     "text": [
      "WARNING:tensorflow:From C:\\Users\\GameToGo\\AppData\\Roaming\\Python\\Python37\\site-packages\\tensorflow\\python\\ops\\math_grad.py:1250: add_dispatch_support.<locals>.wrapper (from tensorflow.python.ops.array_ops) is deprecated and will be removed in a future version.\n",
      "Instructions for updating:\n",
      "Use tf.where in 2.0, which has the same broadcast rule as np.where\n",
      "WARNING:tensorflow:From C:\\Users\\GameToGo\\Anaconda3\\lib\\site-packages\\keras\\backend\\tensorflow_backend.py:1033: The name tf.assign_add is deprecated. Please use tf.compat.v1.assign_add instead.\n",
      "\n",
      "Train on 6720 samples, validate on 1680 samples\n",
      "Epoch 1/10\n",
      " - 8s - loss: 1.9051 - acc: 0.4482 - val_loss: 1.7411 - val_acc: 0.6054\n",
      "Epoch 2/10\n",
      " - 6s - loss: 1.3406 - acc: 0.5503 - val_loss: 1.0801 - val_acc: 0.6435\n",
      "Epoch 3/10\n",
      " - 6s - loss: 0.6800 - acc: 0.7863 - val_loss: 0.6054 - val_acc: 0.8268\n",
      "Epoch 4/10\n",
      " - 6s - loss: 0.2753 - acc: 0.9415 - val_loss: 0.4383 - val_acc: 0.8821\n",
      "Epoch 5/10\n",
      " - 6s - loss: 0.1271 - acc: 0.9690 - val_loss: 0.4233 - val_acc: 0.8875\n",
      "Epoch 6/10\n",
      " - 6s - loss: 0.0877 - acc: 0.9765 - val_loss: 0.4347 - val_acc: 0.8833\n",
      "Epoch 7/10\n",
      " - 6s - loss: 0.0621 - acc: 0.9820 - val_loss: 0.4265 - val_acc: 0.8881\n",
      "Epoch 8/10\n",
      " - 6s - loss: 0.0516 - acc: 0.9835 - val_loss: 0.4204 - val_acc: 0.8917\n",
      "Epoch 9/10\n",
      " - 6s - loss: 0.0510 - acc: 0.9838 - val_loss: 0.4343 - val_acc: 0.8881\n",
      "Epoch 10/10\n",
      " - 6s - loss: 0.0392 - acc: 0.9845 - val_loss: 0.4493 - val_acc: 0.8917\n"
     ]
    }
   ],
   "source": [
    "BATCH_SIZE = 512 # 決定一次要放多少成對標題給模型訓練\n",
    "EPOCHS = 10 # 決定模型要看整個訓練資料集幾遍\n",
    "\n",
    "# 實際訓練模型\n",
    "history = model.fit(x = x2_train, y = y_train,\n",
    "                    validation_data=(x2_test, y_test),\n",
    "                    batch_size=BATCH_SIZE,epochs=EPOCHS,shuffle=True, verbose=2)\n",
    "\n",
    "# ---------------------------------------------------------------------------------------------\n",
    "# 兩個input\n",
    "# history = model.fit(x=[x1_train, x2_train], y=y_train,\n",
    "#     batch_size=BATCH_SIZE,epochs=EPOCHS,\n",
    "#     validation_data=([x1_val, x2_val], y_val),shuffle=True)"
   ]
  },
  {
   "cell_type": "code",
   "execution_count": 6,
   "metadata": {},
   "outputs": [
    {
     "data": {
      "text/html": [
       "<div>\n",
       "<style scoped>\n",
       "    .dataframe tbody tr th:only-of-type {\n",
       "        vertical-align: middle;\n",
       "    }\n",
       "\n",
       "    .dataframe tbody tr th {\n",
       "        vertical-align: top;\n",
       "    }\n",
       "\n",
       "    .dataframe thead th {\n",
       "        text-align: right;\n",
       "    }\n",
       "</style>\n",
       "<table border=\"1\" class=\"dataframe\">\n",
       "  <thead>\n",
       "    <tr style=\"text-align: right;\">\n",
       "      <th></th>\n",
       "      <th>政治(預測)</th>\n",
       "      <th>運動(預測)</th>\n",
       "      <th>財經(預測)</th>\n",
       "      <th>社會(預測)</th>\n",
       "      <th>房產(預測)</th>\n",
       "      <th>國際(預測)</th>\n",
       "      <th>娛樂(預測)</th>\n",
       "    </tr>\n",
       "  </thead>\n",
       "  <tbody>\n",
       "    <tr>\n",
       "      <th>政治(答案)</th>\n",
       "      <td>206</td>\n",
       "      <td>0</td>\n",
       "      <td>20</td>\n",
       "      <td>6</td>\n",
       "      <td>0</td>\n",
       "      <td>11</td>\n",
       "      <td>16</td>\n",
       "    </tr>\n",
       "    <tr>\n",
       "      <th>運動(答案)</th>\n",
       "      <td>1</td>\n",
       "      <td>254</td>\n",
       "      <td>1</td>\n",
       "      <td>0</td>\n",
       "      <td>0</td>\n",
       "      <td>1</td>\n",
       "      <td>7</td>\n",
       "    </tr>\n",
       "    <tr>\n",
       "      <th>財經(答案)</th>\n",
       "      <td>13</td>\n",
       "      <td>1</td>\n",
       "      <td>206</td>\n",
       "      <td>3</td>\n",
       "      <td>16</td>\n",
       "      <td>3</td>\n",
       "      <td>5</td>\n",
       "    </tr>\n",
       "    <tr>\n",
       "      <th>社會(答案)</th>\n",
       "      <td>4</td>\n",
       "      <td>0</td>\n",
       "      <td>11</td>\n",
       "      <td>222</td>\n",
       "      <td>0</td>\n",
       "      <td>2</td>\n",
       "      <td>2</td>\n",
       "    </tr>\n",
       "    <tr>\n",
       "      <th>房產(答案)</th>\n",
       "      <td>0</td>\n",
       "      <td>0</td>\n",
       "      <td>11</td>\n",
       "      <td>1</td>\n",
       "      <td>207</td>\n",
       "      <td>0</td>\n",
       "      <td>0</td>\n",
       "    </tr>\n",
       "    <tr>\n",
       "      <th>國際(答案)</th>\n",
       "      <td>1</td>\n",
       "      <td>8</td>\n",
       "      <td>7</td>\n",
       "      <td>4</td>\n",
       "      <td>0</td>\n",
       "      <td>184</td>\n",
       "      <td>3</td>\n",
       "    </tr>\n",
       "    <tr>\n",
       "      <th>娛樂(答案)</th>\n",
       "      <td>11</td>\n",
       "      <td>5</td>\n",
       "      <td>1</td>\n",
       "      <td>5</td>\n",
       "      <td>0</td>\n",
       "      <td>2</td>\n",
       "      <td>219</td>\n",
       "    </tr>\n",
       "  </tbody>\n",
       "</table>\n",
       "</div>"
      ],
      "text/plain": [
       "        政治(預測)  運動(預測)  財經(預測)  社會(預測)  房產(預測)  國際(預測)  娛樂(預測)\n",
       "政治(答案)     206       0      20       6       0      11      16\n",
       "運動(答案)       1     254       1       0       0       1       7\n",
       "財經(答案)      13       1     206       3      16       3       5\n",
       "社會(答案)       4       0      11     222       0       2       2\n",
       "房產(答案)       0       0      11       1     207       0       0\n",
       "國際(答案)       1       8       7       4       0     184       3\n",
       "娛樂(答案)      11       5       1       5       0       2     219"
      ]
     },
     "execution_count": 6,
     "metadata": {},
     "output_type": "execute_result"
    }
   ],
   "source": [
    "from sklearn.metrics import confusion_matrix\n",
    "\n",
    "s = [\"政治\", \"運動\", \"財經\", \"社會\", \"房產\", \"國際\", \"娛樂\"]\n",
    "\n",
    "row = [c + \"(答案)\" for c in s]\n",
    "col = [c + \"(預測)\" for c in s]\n",
    "\n",
    "pre = model.predict(x2_test)\n",
    "\n",
    "pd.DataFrame(confusion_matrix(y_test.argmax(axis=1), pre.argmax(axis=1)),\n",
    "             columns=col,index=row)"
   ]
  },
  {
   "cell_type": "markdown",
   "metadata": {},
   "source": [
    "### Save Model ###"
   ]
  },
  {
   "cell_type": "code",
   "execution_count": 7,
   "metadata": {},
   "outputs": [],
   "source": [
    "model.save('7news_lstm_acc89.h5')"
   ]
  },
  {
   "cell_type": "code",
   "execution_count": null,
   "metadata": {},
   "outputs": [],
   "source": [
    "from keras.models import load_model\n",
    "model = load_model('7news_lstm_acc89.h5')"
   ]
  }
 ],
 "metadata": {
  "kernelspec": {
   "display_name": "Python 3",
   "language": "python",
   "name": "python3"
  },
  "language_info": {
   "codemirror_mode": {
    "name": "ipython",
    "version": 3
   },
   "file_extension": ".py",
   "mimetype": "text/x-python",
   "name": "python",
   "nbconvert_exporter": "python",
   "pygments_lexer": "ipython3",
   "version": "3.7.3"
  }
 },
 "nbformat": 4,
 "nbformat_minor": 2
}
